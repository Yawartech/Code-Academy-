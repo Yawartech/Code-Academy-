{
  "metadata": {
    "language_info": {
      "codemirror_mode": {
        "name": "python",
        "version": 3
      },
      "file_extension": ".py",
      "mimetype": "text/x-python",
      "name": "python",
      "nbconvert_exporter": "python",
      "pygments_lexer": "ipython3",
      "version": "3.8"
    },
    "kernelspec": {
      "name": "python",
      "display_name": "Python (Pyodide)",
      "language": "python"
    }
  },
  "nbformat_minor": 4,
  "nbformat": 4,
  "cells": [
    {
      "cell_type": "code",
      "source": "import pandas as pd",
      "metadata": {
        "trusted": true
      },
      "execution_count": 4,
      "outputs": []
    },
    {
      "cell_type": "code",
      "source": "data = pd.read_csv('data.csv')",
      "metadata": {
        "trusted": true
      },
      "execution_count": 5,
      "outputs": []
    },
    {
      "cell_type": "code",
      "source": "# Replace missing GPA values with the median of the GPA column\nmedian_gpa = data['gpa'].median()\ndata['gpa'].fillna(median_gpa, inplace=True)\n\n# Replace missing IQ values with the median of the IQ column\nmedian_iq = data['iq'].median()\ndata['iq'].fillna(median_iq, inplace=True)\n",
      "metadata": {
        "trusted": true
      },
      "execution_count": 6,
      "outputs": []
    },
    {
      "cell_type": "code",
      "source": "# Replace missing gender values with the mode of the gender column or a default value\nmode_gender = data['gender'].mode()[0]\ndefault_gender = 'Unknown'  # You can define your own default value\ndata['gender'].fillna(mode_gender, inplace=True)\n",
      "metadata": {
        "trusted": true
      },
      "execution_count": 7,
      "outputs": []
    },
    {
      "cell_type": "code",
      "source": "data.dropna(subset=['concept'], inplace=True)\n",
      "metadata": {
        "trusted": true
      },
      "execution_count": 8,
      "outputs": []
    },
    {
      "cell_type": "code",
      "source": "# Convert gender labels to a consistent format (e.g., \"Male\" or \"Female\")\ndata['gender'] = data['gender'].astype(str).str.lower().str.strip()\ndata['gender'] = data['gender'].apply(lambda x: 'male' if x.startswith('m') else 'female')\n\n",
      "metadata": {
        "trusted": true
      },
      "execution_count": 10,
      "outputs": []
    },
    {
      "cell_type": "code",
      "source": "# Save the cleaned dataset to a new CSV file\ncleaned_filename = \"cleaned_data.csv\"\ndata.to_csv(cleaned_filename, index=False)\n",
      "metadata": {
        "trusted": true
      },
      "execution_count": 11,
      "outputs": []
    },
    {
      "cell_type": "code",
      "source": "",
      "metadata": {},
      "execution_count": null,
      "outputs": []
    }
  ]
}